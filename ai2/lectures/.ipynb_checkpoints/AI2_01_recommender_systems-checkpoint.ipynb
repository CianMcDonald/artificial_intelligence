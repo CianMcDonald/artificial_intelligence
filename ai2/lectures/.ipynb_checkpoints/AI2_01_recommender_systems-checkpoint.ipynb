{
 "cells": [
  {
   "cell_type": "markdown",
   "metadata": {
    "slideshow": {
     "slide_type": "slide"
    }
   },
   "source": [
    "<h1>CS4619: Artificial Intelligence II</h1>\n",
    "<h1>Introduction</h1>\n",
    "<h2>\n",
    "    Derek Bridge<br />\n",
    "    School of Computer Science and Information Technology<br />\n",
    "    University College Cork\n",
    "</h2>"
   ]
  },
  {
   "cell_type": "markdown",
   "metadata": {
    "slideshow": {
     "slide_type": "slide"
    }
   },
   "source": [
    "<h1>From Prediction to Action</h1>\n",
    "<ul>\n",
    "    <li>\n",
    "        In CS4618, we focused on prediction tasks: especially regression and classification (including\n",
    "        fine-grained classification) but also segmentation....FILL IN.\n",
    "    </li>\n",
    "    <li>In CS4619, we will look at the following:\n",
    "        <ul>\n",
    "            <li>Recommendation;</li>\n",
    "            <li>Natural language processing;</li>\n",
    "            <li>Path-finding and state-space search;</li>\n",
    "            <li>Reinforcement learning; and</li>\n",
    "            <li>Reasoning.</li>\n",
    "        </ul>\n",
    "    </li>\n",
    "</ul>"
   ]
  },
  {
   "attachments": {},
   "cell_type": "markdown",
   "metadata": {
    "slideshow": {
     "slide_type": "slide"
    }
   },
   "source": [
    "<h1>Recommender Systems</h1>\n",
    "<ul>\n",
    "    <li><b>Recommender systems</b> suggest items (movies, music, new stories, &hellip;) to consume.</li>\n",
    "    <li>Ideally, the suggestions are:\n",
    "        <ul>\n",
    "            <li><b>personalised</b>: the recommender system tailors its suggestions based on what it knows about\n",
    "                the user:\n",
    "                <ul>\n",
    "                    <li>the user’s tastes, interests, preferences;</li>\n",
    "                    <li>her personality;</li>\n",
    "                    <li>her long-term goals; and</li>\n",
    "                    <li>her skills, knowledge.</li>\n",
    "                </ul>\n",
    "            </li>\n",
    "            <li><b>contextualised</b>: the recommender system tailors its suggestions to the circumstances:\n",
    "                <ul>\n",
    "                    <li>the time;</li>\n",
    "                    <li>the place (physical or virtual);</li>\n",
    "                    <li>the conditions (weather, etc.);</li>\n",
    "                    <li>the user’s companions;</li>\n",
    "                    <li>her mood; and</li>\n",
    "                    <li>her short-term goals.</li>\n",
    "                </ul>\n",
    "            </li>\n",
    "        </ul>\n",
    "    </li>\n",
    "    <li>Recommender systems are an AI success story: Netflix, Spotify, Amazon, Google News, Twitter, LinkedIn, &hellip;\n",
    "    </li>\n",
    "    <li>They're not without problems. Think Facebook! Privacy, filter bubbles, polarization, inappropriate content,\n",
    "        &hellip;\n",
    "    </li>\n",
    "</ul>"
   ]
  },
  {
   "attachments": {},
   "cell_type": "markdown",
   "metadata": {},
   "source": [
    "<h1>\"Items\"</h1>\n",
    "<ul>\n",
    "    <li>Physical products, e.g. books, phones;</li>\n",
    "    <li>Non-physical products, e.g. movies, music, ebooks, ringtones;</li>\n",
    "    <li>Services, e.g. a hotel to stay in, a restaurant, a school or university;</li>\n",
    "    <li>People, e.g. someone to date, a person to ‘friend’ or ‘follow’, an expert (e.g. a plumber, a dentist);</li>\n",
    "    <li>Sources of information, e.g. news stories, web pages, a blog to read, recipes, lessons, tutorials;</li>\n",
    "    <li>Events, actions and activities, e.g. a museum to visit, a concert to go to, a job to apply for, an exercise regime to follow;</li>\n",
    "    <li>&hellip;and many more!</li>\n",
    "</ul>"
   ]
  },
  {
   "cell_type": "markdown",
   "metadata": {},
   "source": [
    "<h2>Example: Netflix</h2>\n",
    "<ul>\n",
    "    <li>\"Everything is a recommendation.\"</li>\n",
    "    <li>E.g. which rows? which shows? which images for shows?\n",
    "        <img src=\"images/netflix.png\" />\n",
    "    </li>\n",
    "</ul>"
   ]
  },
  {
   "cell_type": "markdown",
   "metadata": {},
   "source": [
    "<h2>What data might we have about items?</h2>\n",
    "<ul>\n",
    "    <li>Let's refer to the set of all items as $I$ and an individual item as $i$. Let's refer to the number\n",
    "        of items as $n = |I|$.\n",
    "    </li>\n",
    "    <li>We can represent each item $i \\in I$ as a vector.</li>\n",
    "    <li>What are the features?\n",
    "        <ul>\n",
    "            <li>For products, we might have features such as size, weight, manufacturer, etc.</li>\n",
    "            <li>We might have categories, defined by a domain expert, e.g. movie genres. These can be binary-valued features.</li>\n",
    "            <li>We might have keywords, e.g. automatically extracted from a description of the item, such as from a movie synopsis. These might be binary-valued or numeric-valued (see TF-IDF later in this module or in CS4611).</li>\n",
    "        </ul>\n",
    "    </li>\n",
    "</ul>"
   ]
  },
  {
   "cell_type": "markdown",
   "metadata": {},
   "source": [
    "<h1>Users</h1>\n",
    "<ul>\n",
    "    <li>Let's refer to the set of all users as $U$ and an individual user as $u$. Let's refer to the number\n",
    "        of items as $m = |U|$.</li>\n",
    "    <li>We can represent each user $u \\in U$ as a vector.</li>\n",
    "    <li>What are the features?\n",
    "        <ul>\n",
    "            <li>In systems where users must register, we may obtain the values of features during the sign-up\n",
    "                process, e.g.:\n",
    "                <ul>\n",
    "                    <li>demographic features, such as sex, age, level of education;</li>\n",
    "                    <li>interests, maybe as categories or as keywords.</li>\n",
    "                </ul>\n",
    "            </li>\n",
    "            <li>In all system, we might collect features as users interact with the items, e.g. the categories\n",
    "                of the items that they click on, share or purchase.\n",
    "            </li>\n",
    "        </ul>\n",
    "    </li>\n",
    "</ul>"
   ]
  },
  {
   "cell_type": "markdown",
   "metadata": {},
   "source": [
    "<h1>User-Item Interactions</h1>\n",
    "<ul>\n",
    "    <li>Recommender systems have a third kind of data: user-item interaction data.</li>\n",
    "    <li>This records how users have interacted with items in the past, e.g. clicks, shares, likes, downloads, purchases, ratings, reviews, &hellip;\n",
    "    </li>\n",
    "    <li>For concreteness, we will focus on ratings, and we'll assume they are numeric and on a scale of 1-star to\n",
    "        5-stars.</li>\n",
    "    <li>We can represent these interactions (ratings in our case) using a $m \\times n$ matrix, $R$.</li>\n",
    "    <li>We'll refer to a particular element of $R$ as $r_{ui}$. So $r_{ui}$ is user $u$'s rating for item $i$.</li>\n",
    "    <li>Here's a small example of a rating matrix:\n",
    "        <table style=\"border: 1px solid; border-collapse: collapse;\">\n",
    "            <tr>\n",
    "                <th style=\"border: 1px solid black; text-align: left;\"></th>\n",
    "                <th style=\"border: 1px solid black; text-align: left;\">$i_1$</th>\n",
    "                <th style=\"border: 1px solid black; text-align: left;\">$i_2$</th>\n",
    "                <th style=\"border: 1px solid black; text-align: left;\">$i_3$</th>\n",
    "                <th style=\"border: 1px solid black; text-align: left;\">$i_4$</th>\n",
    "                <th style=\"border: 1px solid black; text-align: left;\">$i_5$</th>\n",
    "                <th style=\"border: 1px solid black; text-align: left;\">$i_6$</th>\n",
    "            </tr>\n",
    "            <tr>\n",
    "                <th style=\"border: 1px solid black; text-align: left;\">$u_1$</th>\n",
    "                <td style=\"border: 1px solid black; text-align: left;\"></td>\n",
    "                <td style=\"border: 1px solid black; text-align: left;\">2</td>\n",
    "                <td style=\"border: 1px solid black; text-align: left;\">5</td>\n",
    "                <td style=\"border: 1px solid black; text-align: left;\">3</td>\n",
    "                <td style=\"border: 1px solid black; text-align: left;\">1</td>\n",
    "                <td style=\"border: 1px solid black; text-align: left;\">2</td>\n",
    "            </tr>\n",
    "            <tr>\n",
    "                <th style=\"border: 1px solid black; text-align: left;\">$u_2$</th>\n",
    "                <td style=\"border: 1px solid black; text-align: left;\">5</td>\n",
    "                <td style=\"border: 1px solid black; text-align: left;\">5</td>\n",
    "                <td style=\"border: 1px solid black; text-align: left;\"></td>\n",
    "                <td style=\"border: 1px solid black; text-align: left;\">3</td>\n",
    "                <td style=\"border: 1px solid black; text-align: left;\">4</td>\n",
    "                <td style=\"border: 1px solid black; text-align: left;\"></td>\n",
    "            </tr>\n",
    "            <tr>\n",
    "                <th style=\"border: 1px solid black; text-align: left;\">$u_3$</th>\n",
    "                <td style=\"border: 1px solid black; text-align: left;\"></td>\n",
    "                <td style=\"border: 1px solid black; text-align: left;\"></td>\n",
    "                <td style=\"border: 1px solid black; text-align: left;\"></td>\n",
    "                <td style=\"border: 1px solid black; text-align: left;\"></td>\n",
    "                <td style=\"border: 1px solid black; text-align: left;\">3</td>\n",
    "                <td style=\"border: 1px solid black; text-align: left;\"></td>\n",
    "            </tr>\n",
    "            <tr>\n",
    "                <th style=\"border: 1px solid black; text-align: left;\">$u_4$</th>\n",
    "                <td style=\"border: 1px solid black; text-align: left;\">5</td>\n",
    "                <td style=\"border: 1px solid black; text-align: left;\">4</td>\n",
    "                <td style=\"border: 1px solid black; text-align: left;\">2</td>\n",
    "                <td style=\"border: 1px solid black; text-align: left;\">4</td>\n",
    "                <td style=\"border: 1px solid black; text-align: left;\">3</td>\n",
    "                <td style=\"border: 1px solid black; text-align: left;\">3</td>\n",
    "            </tr>\n",
    "            <tr>\n",
    "                <th style=\"border: 1px solid black; text-align: left;\">$u_5$</th>\n",
    "                <td style=\"border: 1px solid black; text-align: left;\">2</td>\n",
    "                <td style=\"border: 1px solid black; text-align: left;\">5</td>\n",
    "                <td style=\"border: 1px solid black; text-align: left;\">4</td>\n",
    "                <td style=\"border: 1px solid black; text-align: left;\">4</td>\n",
    "                <td style=\"border: 1px solid black; text-align: left;\"></td>\n",
    "                <td style=\"border: 1px solid black; text-align: left;\"></td>\n",
    "            </tr>\n",
    "        </table>\n",
    "    </li>\n",
    "    <li>So, e.g. $r_{2,4} = 3$</li>\n",
    "    <li>But user $u_2$ has non interacted with, e.g., item $i_3$, so we write $r_{2,3} = \\bot$.</li>\n",
    "</ul>"
   ]
  },
  {
   "attachments": {},
   "cell_type": "markdown",
   "metadata": {},
   "source": [
    "<h2>Sparsity</h2>\n",
    "<ul>\n",
    "    <li>The sparsity of an interaction matrix is the proposrtion of its entires that are $\\bot$.</li>\n",
    "    <li>In most commercial scenarios,\n",
    "        <ul>\n",
    "            <li>we have a very large number of items, e.g. thousands, even millions;</li>\n",
    "            <li>many users, e.g. thousands or tens of thousands;</li>\n",
    "            <li>even the most active user is likely to have rated $< 1\\%$;</li>\n",
    "            <li>hence, the matrix is very sparse;\n",
    "            <li>sparsity of $> 90\\%$ or even $> 99\\%$ is common.</li>\n",
    "        </ul>\n",
    "    </li>\n",
    "    <li>Suppose we generalize from an interaction matrix (rank 2 tensor) to a rank 3 tensor or higher so that\n",
    "        we can record contextual information:\n",
    "        <ul>\n",
    "            <li>E.g. an extra dimension to record on which day-of-the-week the rating was made;</li>\n",
    "            <li>E.g. an extra dimension to record whether it was sunny, cloudy or raining when the ratin was made;</li>\n",
    "            <li>Etc.\n",
    "        </ul>\n",
    "        Then sparsity is even greater.\n",
    "    </li>\n",
    "    <li>Sparsity is one of the biggest challenges when building recommender systems.\n",
    "        <ul>\n",
    "            <li>E.g. it makes it hard to find similar rows (users) or columns (items).</li>\n",
    "        </ul>\n",
    "    </li>\n",
    "</ul>"
   ]
  },
  {
   "cell_type": "markdown",
   "metadata": {
    "slideshow": {
     "slide_type": "slide"
    }
   },
   "source": [
    "<h1>The Objective</h1>\n",
    "<ul>\n",
    "    <li>To <b>create joy</b>!</li>\n",
    "</ul>"
   ]
  },
  {
   "cell_type": "markdown",
   "metadata": {
    "slideshow": {
     "slide_type": "slide"
    }
   },
   "source": [
    "<h1>Why do we want to build intelligent systems?</h1>\n",
    "<ul>\n",
    "    <li>The main goal of AI is to build smarter tools.</li>\n",
    "    <li>Some rough-and-ready definitions:\n",
    "        <ul>\n",
    "            <li>A <b>tool</b> is an object that a creature uses intentionally to transform another object \n",
    "                (possibly including the creature itself).\n",
    "            </li>\n",
    "            <li>A tool is only <b>useful</b> if it:\n",
    "                <ul>\n",
    "                    <li><b>increases throughput</b>: more output for the same or less input (better use of scarce \n",
    "                        resources, including time); and/or\n",
    "                    </li>\n",
    "                    <li><b>reduces externalities</b>: fewer undesirable side-effects (e.g. less pollution, lower \n",
    "                        risks to life and limb, etc.).\n",
    "                    </li>\n",
    "                </ul>\n",
    "            </li>\n",
    "        </ul>\n",
    "    </li>\n",
    "</ul>"
   ]
  },
  {
   "cell_type": "markdown",
   "metadata": {
    "slideshow": {
     "slide_type": "slide"
    }
   },
   "source": [
    "<h2>Examples</h2>\n",
    "<ul>\n",
    "    <li>So, based on the previous definitions, why do we want to build&hellip;\n",
    "<table style=\"width: 100%;\">\n",
    "    <tr>\n",
    "        <td>&hellip;self-driving vehicles?</td><td>&hellip;intelligent news filters?</td>\n",
    "        <td>&hellip;medical diagnosis tools?</td><td>&hellip;bomb disposal robots?</td>\n",
    "    </tr>\n",
    "    <tr>\n",
    "        <td><img src=\"images/car.jpg\" /></td>\n",
    "        <td><img src=\"images/news.jpg\" /></td>\n",
    "        <td><img src=\"images/medicine.jpg\" /></td>\n",
    "        <td><img src=\"images/bomb.jpg\" /></td>\n",
    "    </tr>\n",
    "</table>\n",
    "    </li>\n",
    "     <li>All social media companies use AI. Why?\n",
    "        <div style=\"display: flex; border: 1px solid black;\">\n",
    "            <img src=\"images/google.jpg\" />\n",
    "            <img src=\"images/facebook.jpg\" />\n",
    "            <img src=\"images/spotify.jpg\" />\n",
    "            <img src=\"images/amazon.jpg\" />\n",
    "        </div>\n",
    "    </li>\n",
    "</ul>"
   ]
  },
  {
   "cell_type": "markdown",
   "metadata": {
    "slideshow": {
     "slide_type": "slide"
    }
   },
   "source": [
    "<h1>Narrow AI versus Artificial General Intelligence (AGI)</h1>\n",
    "<ul>\n",
    "    <li>Narrow AI:\n",
    "        <ul>\n",
    "            <li>We are bulding systems that are highly specialized, often to a single task in a single domain.\n",
    "            </li>\n",
    "        </ul>\n",
    "        <table>\n",
    "             <tr>\n",
    "                <td style=\"border-right-width: 0\"><img style=\"width: 200px\" src=\"images/togelius.jpg\" /></td>\n",
    "                <td style=\"border-left-width: 0\">\n",
    "                    <a href=\"http://togelius.blogspot.ie/2017/07/some-advice-for-journalists-writing.html\">\n",
    "                    Some advice for journalists writing about AI:\n",
    "                    </a><br />\n",
    "                    \"AI is a collection of methods &hellip; that can do something impressive, such as playing \n",
    "                    a game or drawing pictures of cats. However, you can safely assume that the same system \n",
    "                    cannot both play games and draw pictures of cats. &hellip; [Journalists can] make it seem \n",
    "                    like there are machines with general intelligence out there. There are not.\"\n",
    "                </td>\n",
    "            </tr>\n",
    "        </table>\n",
    "        <ul>\n",
    "            <li>For narrow AI, we are having some amazing successes, e.g. <a href=\"https://www.nature.com/articles/d41586-020-00018-3\">discovery of a new antibiotic</a>.\n",
    "            </li>\n",
    "            <li>But, equally, these narrow AI systems are surprisingly brittle.\n",
    "            </li>\n",
    "        </ul>\n",
    "    </li>\n",
    "    <li>AGI:\n",
    "        <ul>\n",
    "            <li>We are nowhere near close to achieving AGI.</li>\n",
    "            <li>In fact, we are not working on this!</li>\n",
    "        </ul>\n",
    "    </li>\n",
    "</ul>"
   ]
  },
  {
   "cell_type": "markdown",
   "metadata": {
    "slideshow": {
     "slide_type": "slide"
    }
   },
   "source": [
    "<h1>Risks</h1>\n",
    "<ul>\n",
    "    <li>Journalists are exaggerating AI success stories (narrow AI) to imply that AGI is just around the corner.\n",
    "        <ul>\n",
    "            <li>And if AGI is just around the corner, this leads observers to warn about existential risks:\n",
    "                <table style=\"width: 100%;\">\n",
    "                    <tr>\n",
    "                        <td style=\"border-right-width: 0\">\n",
    "                            <img style=\"width: 100px\" src=\"images/musk.jpg\" />\n",
    "                        </td>\n",
    "                        <td style=\"border-left-width: 0; border-right: 1px solid black;\">\n",
    "                            \"&hellip;the most serious threat to the survival of the human race&hellip;\"\n",
    "                        </td>\n",
    "                        <td style=\"border-right-width: 0\">\n",
    "                            <img style=\"width: 100px\" src=\"images/hawking.jpg\" />\n",
    "                        </td>\n",
    "                        <td style=\"border-left-width: 0\">\n",
    "                            \"The development of full artificial intelligence could spell the end of the human\n",
    "                            race&hellip;It would take off on its own, and re-design itself at an ever \n",
    "                            increasing rate.\"\n",
    "                        </td>\n",
    "                    </tr>\n",
    "                </table>\n",
    "            </li>\n",
    "            <li>People who work within the field are more realistic:\n",
    "                <table style=\"width: 100%;\">\n",
    "                    <tr>\n",
    "                        <td style=\"border-right-width: 0\">\n",
    "                            <img style=\"width: 100px\" src=\"images/ng.jpg\" />\n",
    "                        </td>\n",
    "                        <td style=\"border-left-width: 0\">\n",
    "                            \"I don’t work on not turning AI evil today for the same reason I don't worry \n",
    "                            about the problem of overpopulation on the planet Mars.\"\n",
    "                        </td>\n",
    "                    </tr>\n",
    "                </table>\n",
    "            </li>\n",
    "        </ul>\n",
    "    </li>\n",
    "    <li>The real risks:\n",
    "        <ul>\n",
    "            <li>The real risks include the following: lack of explainability; fragility; bias and data quality; \n",
    "                fakes; high energy costs; military uses; unemployment; surveillance by government agencies;\n",
    "                surveillance by big tech; &hellip;\n",
    "            </li>\n",
    "            <li>Let's briefly look at one: fragility. The problem is not that AI is too good. \n",
    "                The problem is that AI is not good enough.\n",
    "                <figure style=\"width: 100%; border: 1px solid black;\" >\n",
    "                    <img src=\"images/adv1.png\" /><br />\n",
    "                    <img src=\"images/adv2.png\" />\n",
    "                </figure>\n",
    "            </li>\n",
    "            <li>People are moire and more thinking about our responsibilities in this field, e.g.:\n",
    "                <a href=\"https://ec.europa.eu/futurium/en/ai-alliance-consultation\">\n",
    "                Ethics Guidelines for Trustworthy AI\n",
    "                </a>\n",
    "            </li>\n",
    "        </ul>\n",
    "    </li>\n",
    "</ul>"
   ]
  },
  {
   "cell_type": "code",
   "execution_count": null,
   "metadata": {},
   "outputs": [],
   "source": []
  }
 ],
 "metadata": {
  "celltoolbar": "Slideshow",
  "kernelspec": {
   "display_name": "Python 3",
   "language": "python",
   "name": "python3"
  },
  "language_info": {
   "codemirror_mode": {
    "name": "ipython",
    "version": 3
   },
   "file_extension": ".py",
   "mimetype": "text/x-python",
   "name": "python",
   "nbconvert_exporter": "python",
   "pygments_lexer": "ipython3",
   "version": "3.8.5"
  }
 },
 "nbformat": 4,
 "nbformat_minor": 1
}
