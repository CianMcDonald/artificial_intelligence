{
 "cells": [
  {
   "cell_type": "markdown",
   "metadata": {},
   "source": [
    "<h1>CS4618: Artificial Intelligence I</h1>\n",
    "<h1>Training a Neural Network</h1>\n",
    "<h2>\n",
    "    Derek Bridge<br>\n",
    "    School of Computer Science and Information Technology<br>\n",
    "    University College Cork\n",
    "</h2>"
   ]
  },
  {
   "cell_type": "markdown",
   "metadata": {},
   "source": [
    "<h1>Initialization</h1>\n",
    "$\\newcommand{\\Set}[1]{\\{#1\\}}$ \n",
    "$\\newcommand{\\Tuple}[1]{\\langle#1\\rangle}$ \n",
    "$\\newcommand{\\v}[1]{\\pmb{#1}}$ \n",
    "$\\newcommand{\\cv}[1]{\\begin{bmatrix}#1\\end{bmatrix}}$ \n",
    "$\\newcommand{\\rv}[1]{[#1]}$ \n",
    "$\\DeclareMathOperator{\\argmax}{arg\\,max}$ \n",
    "$\\DeclareMathOperator{\\argmin}{arg\\,min}$ \n",
    "$\\DeclareMathOperator{\\dist}{dist}$\n",
    "$\\DeclareMathOperator{\\abs}{abs}$"
   ]
  },
  {
   "cell_type": "code",
   "execution_count": 1,
   "metadata": {},
   "outputs": [],
   "source": [
    "%load_ext autoreload\n",
    "%autoreload 2\n",
    "%matplotlib inline"
   ]
  },
  {
   "cell_type": "code",
   "execution_count": 2,
   "metadata": {},
   "outputs": [],
   "source": [
    "import pandas as pd\n",
    "import numpy as np\n",
    "import matplotlib.pyplot as plt\n",
    "from math import exp\n",
    "\n",
    "from tensorflow.keras.datasets.mnist import load_data\n",
    "\n",
    "from tensorflow.keras import Model\n",
    "from tensorflow.keras import Input\n",
    "from tensorflow.keras.layers.experimental.preprocessing import Rescaling\n",
    "from tensorflow.keras.layers import Dense\n",
    "from tensorflow.keras.layers import BatchNormalization\n",
    "\n",
    "from tensorflow.keras.optimizers import SGD\n",
    "\n",
    "from lib.pyimagesearch import LearningRateFinder\n",
    "from lib.clr_callback import CyclicLR"
   ]
  },
  {
   "cell_type": "code",
   "execution_count": 3,
   "metadata": {},
   "outputs": [],
   "source": [
    "# MNIST dataset\n",
    "\n",
    "# Load MNIST into four Numpy arrays\n",
    "(mnist_x_train, mnist_y_train), (mnist_x_test, mnist_y_test) = load_data()\n",
    "mnist_x_train = mnist_x_train.reshape((60000, 28 * 28))\n",
    "mnist_x_test = mnist_x_test.reshape((10000, 28 * 28))"
   ]
  },
  {
   "cell_type": "markdown",
   "metadata": {},
   "source": [
    "<h1>Acknowledgements</h1>\n",
    "<ul>\n",
    "    <li>The <code>LearningRateFinder</code> class comes from Adrian Rosebrock's excellent\n",
    "        <a href=\"https://www.pyimagesearch.com/\">pyimagesearch</a> site. He credits the\n",
    "        <a href=\"http://github.com/amaiya/ktrain\">ktrain library</a> for the original code.\n",
    "    </li>\n",
    "    <li>The <code>CyclicLR</code> class comes from Brad Kenstler and others:\n",
    "        <a href=\"https://github.com/bckenstler/CLR/blob/master/clr_callback.py\">https://github.com/bckenstler/CLR/blob/master/clr_callback.py</a>.\n",
    "    </li>\n",
    "    <li>They both credit the following paper for both ideas:<br />\n",
    "        L. N. Smith, \"Cyclical Learning Rates for Training Neural Networks,\" \n",
    "        2017 IEEE Winter Conference on Applications of Computer Vision (WACV), \n",
    "        Santa Rosa, CA, 2017, pp. 464-472, doi: 10.1109/WACV.2017.58.\n",
    "    </li>\n",
    "</ul>"
   ]
  },
  {
   "cell_type": "markdown",
   "metadata": {},
   "source": [
    "<h1>Introduction</h1>\n",
    "<ul>\n",
    "    <li>We'll give an overview of Gradient Descent for neural networks.\n",
    "        <ul>\n",
    "            <li>Our goal is to get the 'flavour' of the algorithm.\n",
    "            </li>\n",
    "        </ul>\n",
    "    </li>\n",
    "    <li>Then, we will discuss the Vanishing Gradients Problem and its solutions.</li>\n",
    "    <li>Finally, we'll discuss how to choose a learning rate.</li>\n",
    "</ul>"
   ]
  },
  {
   "cell_type": "markdown",
   "metadata": {},
   "source": [
    "<h1>Gradient Descent for Neural Networks</h1>\n",
    "<ul>\n",
    "    <li>Let's start by reminding ourselves of (Batch) Gradient Descent for OLS regression:\n",
    "        <ul style=\"background: lightgrey; list-style: none\">\n",
    "            <li>initialize $\\v{\\beta}$ randomly\n",
    "            <li>\n",
    "                repeat until convergence\n",
    "                <ul>\n",
    "                    <li>\n",
    "                        $\\v{\\beta} \\gets \\v{\\beta} - \\frac{\\alpha}{m}\\v{X}^T(\\v{X}\\v{\\beta} - \\v{y})$\n",
    "                    </li>\n",
    "                </ul>\n",
    "             </li>\n",
    "        </ul>\n",
    "    </li>\n",
    "    <li>We see it making predictions $\\hat{\\v{y}} = \\v{X}\\v{\\beta}$ for all the examples $\\v{X}$ and \n",
    "        comparing them with target values, $\\v{y}$.\n",
    "    </li>\n",
    "    <li>And we see it updating al the parameters $\\v{\\beta}$ by an amount equal to the negative of\n",
    "        the gradients, multiplied by the learning rate $\\alpha$.\n",
    "    </li>\n",
    "</ul>"
   ]
  },
  {
   "cell_type": "markdown",
   "metadata": {},
   "source": [
    "<h1>Backpropagation</h1>\n",
    "<ul>\n",
    "    <li>For neural networks, however, there is a problem.\n",
    "        <ul>\n",
    "            <li>At the output layer, we can straightforwardly compute loss: we can get the network's output\n",
    "                (its predicton) and we have the target value, because the training set is a labeled dataset.\n",
    "            </li>\n",
    "            <li>But we cannot straightforwardly compute loss at the hidden layers: we know what outputs their\n",
    "                neurons produce but we do not know what they should produce (target values). The labeled\n",
    "                dataset doesn't tell us the target values for hidden layer neurons.\n",
    "            </li>\n",
    "        </ul>  \n",
    "    </li>\n",
    "    <li>The solution is to assume that each neuron in layer $l$ is responsible for some part of the loss\n",
    "        of the neurons it is connected to in layer $l+1$. We'll refer to this amount as the 'error signal'.\n",
    "    </li>\n",
    "    <li>This leads to the idea of an algorithm that makes two passes through the network:\n",
    "        <ul>\n",
    "            <li>a <b>forward pass</b> to make predictions: we feed $\\v{X}$ in to the network and then work forwards\n",
    "                through the network, computing \n",
    "                activations layer by layer\n",
    "                until we reach the output layer;\n",
    "            </li>\n",
    "            <li>a <b>backward pass</b> to compute the gradients: we calculate loss at the output layer and then\n",
    "                work backwards through the network computing error signals layer by layer until we reach the\n",
    "                input layer.\n",
    "            </li>\n",
    "        </ul>\n",
    "        With these two steps completed, we have all the gradients, so we can update all the weights and biases.\n",
    "    </li>\n",
    "    <li>This very informal description helps you see why the calculation of the gradients (and sometimes\n",
    "        the entire algorithm) is referred to as <b>backpropagation</b> (or just <b>backprop</b>).\n",
    "    </li>\n",
    "</ul>"
   ]
  },
  {
   "cell_type": "markdown",
   "metadata": {},
   "source": [
    "<h2>Demo</h2>\n",
    "<ul>\n",
    "    <li>We'll take a look at <a href=\"http://experiments.mostafa.io/public/ffbpann/\">http://experiments.mostafa.io/public/ffbpann/</a></li>\n",
    "</ul>"
   ]
  },
  {
   "cell_type": "markdown",
   "metadata": {},
   "source": [
    "<h2>The Backpropagation Algorithm</h2>\n",
    "<ul>\n",
    "    <li><b>Random initialization</b>: initialize all weights and biases randomly</li>\n",
    "    <li><b>Forward propagation</b>: make predictions for all the training examples:\n",
    "        <ul>\n",
    "            <li>Layer by layer from from layer 1 to layer $L$:\n",
    "                <ul>\n",
    "                    <li>Calculate the inputs to the units in that layer (weighted sums plus biases)</li>\n",
    "                    <li>Calculate the outputs of the units in that layer (using activation function)</li>\n",
    "                </ul>\n",
    "            </li>\n",
    "        </ul>\n",
    "    </li>\n",
    "    <li><b>Backpropagation</b>:\n",
    "        <ul>\n",
    "            <li>Calculate the error signals $\\Delta$ at layer $L$</li>\n",
    "            <li>Layer by layer in reverse from layer $L-1$ to layer 1:\n",
    "                <ul>\n",
    "                    <li>Calculate the error signals $\\Delta$ for the units in that layer</li>\n",
    "                </ul>\n",
    "            </li>\n",
    "        </ul>\n",
    "    </li>\n",
    "    <li><b>Update all the weights</b>: \n",
    "        $w^{(l)}_{i,j} \\gets w^{(l)}_{i,j} - \\alpha \\times a_i \\times \\Delta^{(l)}_j$\n",
    "     </li>\n",
    "</ul>"
   ]
  },
  {
   "cell_type": "markdown",
   "metadata": {},
   "source": [
    "<h2>Class exercise</h2>\n",
    "<ul>\n",
    "    <li>Back prop starts by initializing weights randomly.\n",
    "        <ul>\n",
    "            <li>E.g it was common to use a normal distribution with mean of 0 and standard deviation \n",
    "                of, e.g., 0.05.\n",
    "            </li>\n",
    "        </ul>\n",
    "    </li>\n",
    "    <li>A novice proposes instead to initailize them all to zero.</li>\n",
    "    <li>Why in general does this not make sense?</li>\n",
    "</ul>"
   ]
  },
  {
   "cell_type": "markdown",
   "metadata": {},
   "source": [
    "<h2>The Backpropagation Algorithm (Vectorized)</h2>\n",
    "<ul>\n",
    "    <li><b>Random initialization</b>: initialize all weights randomly</li>\n",
    "    <li><b>Forward propagation</b>:\n",
    "        <ul>\n",
    "            <li>Calculate and store $\\v{Z}^{(1)} = \\v{X}\\v{W}^{(1)}$\n",
    "            <li>Layer by layer from layer $l=1$ to layer $L$:\n",
    "                <ul>\n",
    "                    <li>Calculate and store $\\v{A}^{(l)} = g^{(l)}(\\v{Z}^{(l)})$</li>\n",
    "                    <li>Calculate $\\v{Z}^{(l+1)} = \\v{A}^{(l)}\\v{W}^{(l+1)}$</li>\n",
    "                    <li>Calculate and store $\\v{G}^{(l)} = g'(\\v{Z}^{(l)})^T$</li>\n",
    "                </ul>\n",
    "            </li>\n",
    "        </ul>\n",
    "    </li>\n",
    "    <li><b>Backpropagation</b>:\n",
    "        <ul>\n",
    "            <li>Calculate $\\v{D}^{(L)} = (\\v{A}^{(L)} − \\v{Y})^T$</li>\n",
    "            <li>Layer by layer in reverse from layer $l=L-1$ to layer 1:\n",
    "                <ul>\n",
    "                    <li>Calculate and store $\\v{D}^{(l)} = \\v{G}^{(l)} * \\v{W}^{(l)}\\v{D}^{(l+1)}$</li>\n",
    "                </ul>\n",
    "            </li>\n",
    "        </ul>\n",
    "    </li>\n",
    "    <li><b>Update all the weights</b>:\n",
    "        <ul>\n",
    "            <li>$\\v{W}^{(1)} = \\v{W}^{(1)} - \\alpha (\\v{D}^{(1)}\\v{X})^T$</li>\n",
    "            <li>$\\v{W}^{(l)} = \\v{W}^{(l)} - \\alpha (\\v{D}^{(l)}\\v{A}^{(l-1)})^T$ for all other values of $l$</li>\n",
    "        </ul>\n",
    "    </li>\n",
    "</ul>"
   ]
  },
  {
   "cell_type": "markdown",
   "metadata": {},
   "source": [
    "<ul>\n",
    "    <li>For simplicity (!), I've omitted the biases.</li>\n",
    "    <li>We can see in this more precise version that some of the things that are calculated on the\n",
    "        forward pass get stored.\n",
    "    </li>\n",
    "    <li>These things can the be used on the backward pass.</li>\n",
    "    <li>Similarly, some of the things that are calculated on the backward pass get stored.</li>\n",
    "    <li>These things can then be used to update the weights.</li>\n",
    "    <li>This makes backprop much more efficient than it otherwise would be.</li>\n",
    "</ul>"
   ]
  },
  {
   "cell_type": "markdown",
   "metadata": {},
   "source": [
    "<h2>Autodiff</h2>\n",
    "<ul>\n",
    "    <li>Whoa! We have shown the update rules for a <em>particular</em> network and a <em>particular</em> loss function.</li>\n",
    "    <li>We would get different update rules if we changed:\n",
    "        <ul>\n",
    "            <li>the network, e.g. layers other than dense layers (batch normalization layers, convolutional\n",
    "                layers, etc.); and/or\n",
    "            </li>\n",
    "            <li>the loss function.</li>\n",
    "        </ul>\n",
    "    </li>\n",
    "    <li>Happily, we don't have manually to find the partial derivatives all over again.\n",
    "        <ul>\n",
    "            <li>Neural networks consist of layers of operations, each with simple, known derivatives.</li>\n",
    "            <li>Given that the network simply defines a composite function (see previous lecture), the \n",
    "                derivatives for the whole network can be obtained automatically by repeated use of the\n",
    "                <b>chain rule</b>:\n",
    "                <ul>\n",
    "                    <li>To differentiate a function of a function, $y = f(g(x))$, let $u = g(x)$ so that \n",
    "                        $y = f(u)$, then\n",
    "                        $$\\frac{dy}{dx} = \\frac{dy}{du} \\times \\frac{du}{dx}$$\n",
    "                    </li>\n",
    "                </ul>\n",
    "            </li>\n",
    "            <li>Hence, modern frameworks such as TensorFlow can compute gradients automatically in the\n",
    "                backpropagation step.\n",
    "            </li>\n",
    "            <li>This is known as <b>autodiff</b> (or, for the way it is used by backprop, <b>reverse mode autodiff</b>).</li>\n",
    "        </ul>\n",
    "    </li>\n",
    "</ul>"
   ]
  },
  {
   "cell_type": "markdown",
   "metadata": {
    "collapsed": true
   },
   "source": [
    "<h1>The Vanishing Gradient Problem</h1>\n",
    "<ul>\n",
    "    <li>Each weight is updated by an amount proportional to the gradient of the loss function with respect to\n",
    "        that weight.\n",
    "    </li>\n",
    "    <li>But if the gradient is very small, the weight doesn't change much.\n",
    "        <ul>\n",
    "            <li>This may prevent the network from converging to a good approximation of\n",
    "                the target function.\n",
    "            </li>\n",
    "        </ul>\n",
    "    </li>\n",
    "    <li>We can now see that this is worse for deeper networks.\n",
    "        <ul>\n",
    "            <li>The error signal becomes ever smaller as it is backpropagated.</li>\n",
    "        </ul>\n",
    "    </li>\n",
    "    <li>We look at three solutions:\n",
    "        <ul>\n",
    "            <li>Non-saturating activation functions;</li>\n",
    "            <li>Better initialization;</li>\n",
    "            <li>Batch normalization.</li>\n",
    "        </ul>\n",
    "    </li>\n",
    "</ul>"
   ]
  },
  {
   "cell_type": "markdown",
   "metadata": {},
   "source": [
    "<h2>Non-Saturating Activation Functions</h2>\n",
    "<ul>\n",
    "    <li>Certain activation functions, including the sigmoid function, are one cause of\n",
    "        the vanishing gradient problem.\n",
    "    </li>\n",
    "</ul>"
   ]
  },
  {
   "cell_type": "code",
   "execution_count": 4,
   "metadata": {},
   "outputs": [
    {
     "data": {
      "image/png": "[encoded data removed]",
      "text/plain": [
       "<Figure size 432x288 with 1 Axes>"
      ]
     },
     "metadata": {
      "needs_background": "light"
     },
     "output_type": "display_data"
    }
   ],
   "source": [
    "def sigma(z):\n",
    "    return 1 / (1 + exp(-z))\n",
    "\n",
    "fig = plt.figure()\n",
    "plt.title(\"Sigmoid function\")\n",
    "xvals = np.linspace(-10, 10, 21)\n",
    "plt.plot(xvals, [sigma(xval) for xval in xvals], color = \"red\")\n",
    "plt.xlabel(\"z\")\n",
    "plt.xlim(-10, 10)\n",
    "plt.ylabel(\"$\\sigma(z)$\")\n",
    "plt.ylim(0.0, 1.0)\n",
    "plt.show()"
   ]
  },
  {
   "cell_type": "markdown",
   "metadata": {},
   "source": [
    "<ul>\n",
    "    <li>When the input to this function becomes large (positive or negative), the function \n",
    "        <b>saturates</b> (i.e. becomes very flat).\n",
    "        <ul>\n",
    "            <li>When it saturates, its derivative is extremely close to 0 so there's not much gradient \n",
    "                to propagate back to earlier layers (and what little gradient there is\n",
    "                gets diluted as it propagates back).\n",
    "            </li>\n",
    "        </ul>\n",
    "    </li>\n",
    "    <li>Even when the gradient is at its greatest (when input $z$ is 0 and $\\sigma(z) = 0.5$), it is only 0.25.\n",
    "        <ul>\n",
    "            <li>So in the back propagation, gradients always diminish by a quarter or more.</li>\n",
    "        </ul>\n",
    "    </li>\n",
    "    <li>This is why we rarely use the sigmoid function as the activation function in the hidden\n",
    "        layers of deep networks.\n",
    "    </li>\n",
    "    <li>Lots of alternatives have been proposed, including the <b>rectified linear unit</b>\n",
    "        activation function, ReLU\n",
    "        $$\\mbox{ReLU}(z) = \\max(0, z)$$\n",
    "    </li>\n",
    "</ul>"
   ]
  },
  {
   "cell_type": "code",
   "execution_count": 5,
   "metadata": {},
   "outputs": [
    {
     "data": {
      "image/png": "[encoded data removed]",
      "text/plain": [
       "<Figure size 432x288 with 1 Axes>"
      ]
     },
     "metadata": {
      "needs_background": "light"
     },
     "output_type": "display_data"
    }
   ],
   "source": [
    "def relu(z):\n",
    "    return max(z, 0)\n",
    "\n",
    "fig = plt.figure()\n",
    "plt.title(\"ReLU activation function\")\n",
    "xvals = np.linspace(-10, 10, 21)\n",
    "plt.plot(xvals, [relu(xval) for xval in xvals], color = \"red\")\n",
    "plt.xlabel(\"z\")\n",
    "plt.xlim(-10, 10)\n",
    "plt.ylabel(\"$relu(z)$\")\n",
    "plt.ylim(0.0, 10.0)\n",
    "plt.show()"
   ]
  },
  {
   "cell_type": "markdown",
   "metadata": {},
   "source": [
    "<ul>\n",
    "    <li>Neurons that use the ReLU activation function have obvious problems too: \n",
    "        <ul>\n",
    "            <li>If their input (weighted sum) is negative, \n",
    "                <ul>\n",
    "                    <li>the output is zero; and</li>\n",
    "                    <li>the gradient is zero;</li>\n",
    "                </ul>\n",
    "                &mdash; and if this is true for all examples in the training set then, in effect, the neuron dies.\n",
    "            </li>\n",
    "            <li>The gradient changes abruptly at $z=0$, which can make Gradient Descent bounce around.\n",
    "            </li>\n",
    "        </ul>\n",
    "    </li>\n",
    "    <li>Alternatives to ReLU such as Leaky ReLU, ELU (Exponential Linear Unit) and Scaled ELU have been \n",
    "        proposed, having  at least some non-zero\n",
    "        gradient for negative inputs but they are slower to compute and they introduce further hyperparameters.\n",
    "    </li>\n",
    "    <li>We'll stick with ReLU in this module. Despite its problems, it remains a popular choice.</li>\n",
    "</ul>"
   ]
  },
  {
   "cell_type": "markdown",
   "metadata": {},
   "source": [
    "<h2>Better Random Initialization</h2>\n",
    "<ul>\n",
    "    <li>It turns out that vanishing gradients are more likely for certain ways of initializing the weights.</li>\n",
    "    <li>Perhaps the most typical method was to use a normal distribution with mean of 0 and standard deviation \n",
    "        of, e.g., 0.05.\n",
    "    </li>\n",
    "    <li>Better methods have been proposed.\n",
    "        <ul>\n",
    "            <li>One (of many) is Glorot uniform initialization (also called Xavier uniform initialization).</li>\n",
    "            <li>Happily, this is the Keras default.</li>\n",
    "        </ul>\n",
    "    </li>\n",
    "</ul>"
   ]
  },
  {
   "cell_type": "markdown",
   "metadata": {},
   "source": [
    "<h2>Batch Normalization</h2>\n",
    "<ul>\n",
    "    <li>We previously studied the usefulness of feature scaling when doing Gradient Descent for,\n",
    "        e.g., linear regression.\n",
    "        <figure>\n",
    "            <img src=\"images/unscaled.png\" style=\"display: inline\" /> \n",
    "            <img src=\"images/scaled.png\" style=\"display: inline\" />\n",
    "        </figure>\n",
    "        &hellip; and we've been doing this to the features in our neural networks too.\n",
    "    </li>\n",
    "    <li>But, if this is a good idea for the inputs to the first hidden layer, why not use the same\n",
    "        idea for the inputs to subsequent layers?\n",
    "        <ul>\n",
    "            <li>In other words, we normalize the activations (outputs) of layer $l$ prior to them being used \n",
    "                as inputs to layer $l+1$.\n",
    "            </li>\n",
    "            <li>This will control the distribution of the values throughout the training process.</li>\n",
    "        </ul>\n",
    "     </li>\n",
    "     <li>This, in essence, is the idea of <b>batch normalization</b>.</li>\n",
    "</ul>"
   ]
  },
  {
   "cell_type": "markdown",
   "metadata": {},
   "source": [
    "<h3>Some of the details</h3>\n",
    "<ul>\n",
    "    <li>(No need to learn these details &mdash; and there are some notation abuses anyway!)</li>\n",
    "    <li>In summary, for a given layer, it standardizes the outputs of the neurons (subtract the mean, divide by\n",
    "        the standard deviation), then it scales the result and adds an offset.\n",
    "    </li>\n",
    "    <li>It standardizes the output of a previous activation layer by subtracting the batch mean and dividing\n",
    "        by the batch standard deviation:\n",
    "        <ul>\n",
    "            <li>Let $B$ be the batch of examples of size $m_B$.</li>\n",
    "            <li>The mean of a batch of activation values $\\mu_B = \\frac{1}{m_B}\\sum_{i=1}^{m_B} a^{(i)}$.</li>\n",
    "            <li>Their standard deviation $\\sigma^2_B = \\frac{1}{m_B}\\sum_{i=1}^{m_B}(a^{(i)} - \\mu_B)^2$.</li>\n",
    "            <li>Standardize them: $a^{(i)}_{\\mbox{norm}} = \\frac{a^{(i)} - \\mu_B}{\\sqrt{\\sigma^2_B + \\epsilon}}$,\n",
    "                where\n",
    "                $\\epsilon$ is a small value to avoid division-by-zero problems.\n",
    "            </li>\n",
    "        </ul>\n",
    "    </li>\n",
    "    <li>But, while we want the different units to have comparable activation values (achieved by\n",
    "        standardizing), we don't necessarily want them to have mean 0 and standard deviation 1.\n",
    "    </li>\n",
    "    <li>So, we multiply by a scaling factor for the layer and add an offset for the layer.\n",
    "        <ul>\n",
    "            <li>Scale and add offset: $\\tilde{a}^{(i)} = \\gamma a^{(i)}_{\\mbox{norm}} + \\beta$\n",
    "            <li>$\\gamma$ and $\\beta$ are parameters and so they are also learned by the Gradient Descent.</li>\n",
    "        </ul>\n",
    "    </li>\n",
    "</ul>"
   ]
  },
  {
   "cell_type": "markdown",
   "metadata": {},
   "source": [
    "<h3>Other benefits of Batch Normalization</h3>\n",
    "<ul>\n",
    "    <li>Batch Normalization reduces the vanishing gradients problem so much, we can even use saturating\n",
    "        activation functions.\n",
    "    </li>\n",
    "    <li>Training becomes less sensitive to the method used for randomly initializing weights.</li>\n",
    "    <li>Much larger learning rates work (faster convergence) with less risk of divergence.</li>\n",
    "    <li>It acts like a regularizer.</li>\n",
    "</ul>"
   ]
  },
  {
   "cell_type": "markdown",
   "metadata": {},
   "source": [
    "<h3>Batch normalization in Keras</h3>\n",
    "<ul>\n",
    "    <li>Just add another layer!</li>\n",
    "    <li>E.g.\n",
    "        <pre>\n",
    "x = Dense, 12, activation=\"relu\")(x)\n",
    "x = BatchNormalization()(x)\n",
    "        </pre>\n",
    "        This is how we will do batch normalization in CS4618.\n",
    "    </li>\n",
    "    <li>Ignore: in fact, there is some debate about whether we should batch \n",
    "         normalize the activations of\n",
    "        the layer (as above) or the weighted sum, before applying the activation function (as below):\n",
    "        <pre>\n",
    "x = Dense, 12, activation=\"linear\")(x)\n",
    "x = BatchNormalization()(x)\n",
    "x = Activation(\"relu\")(x)\n",
    "        </pre>\n",
    "        We'll stick with the former, which is more concise.\n",
    "    </li>\n",
    "</ul>"
   ]
  },
  {
   "cell_type": "markdown",
   "metadata": {},
   "source": [
    "<h2>Exploring Vanishing Gradients with MNIST</h2>"
   ]
  },
  {
   "cell_type": "code",
   "execution_count": 6,
   "metadata": {},
   "outputs": [],
   "source": [
    "def build_mnist_network(activation, initializer, use_batch_norm):\n",
    "    inputs = Input(shape=(28 * 28,))\n",
    "    x = Rescaling(scale=1./255)(inputs)\n",
    "    x = Dense(512, activation=activation, kernel_initializer=initializer)(x)\n",
    "    if use_batch_norm:\n",
    "        x = BatchNormalization()(x)\n",
    "    outputs = Dense(10, activation=\"softmax\", kernel_initializer=initializer)(x)\n",
    "    model = Model(inputs, outputs)\n",
    "    model.compile(optimizer=SGD(learning_rate=0.01), loss=\"sparse_categorical_crossentropy\", metrics=[\"accuracy\"])\n",
    "    return model"
   ]
  },
  {
   "cell_type": "code",
   "execution_count": 7,
   "metadata": {},
   "outputs": [
    {
     "name": "stderr",
     "output_type": "stream",
     "text": [
      "2021-08-12 17:09:52.544682: I tensorflow/core/platform/cpu_feature_guard.cc:142] This TensorFlow binary is optimized with oneAPI Deep Neural Network Library (oneDNN) to use the following CPU instructions in performance-critical operations:  AVX2 FMA\n",
      "To enable them in other operations, rebuild TensorFlow with the appropriate compiler flags.\n",
      "2021-08-12 17:09:52.750904: I tensorflow/compiler/mlir/mlir_graph_optimization_pass.cc:176] None of the MLIR Optimization Passes are enabled (registered 2)\n"
     ]
    },
    {
     "name": "stdout",
     "output_type": "stream",
     "text": [
      "0.9110999703407288\n",
      "0.932200014591217\n",
      "0.9121999740600586\n",
      "0.9322999715805054\n",
      "0.9539999961853027\n",
      "0.9778000116348267\n",
      "0.9563999772071838\n",
      "0.98089998960495\n"
     ]
    }
   ],
   "source": [
    "networks = [\n",
    "    build_mnist_network(\"sigmoid\", \"random_normal\", False),\n",
    "    build_mnist_network(\"sigmoid\", \"random_normal\", True),\n",
    "    build_mnist_network(\"sigmoid\", \"glorot_uniform\", False),\n",
    "    build_mnist_network(\"sigmoid\", \"glorot_uniform\", True),\n",
    "    build_mnist_network(\"relu\", \"random_normal\", False),\n",
    "    build_mnist_network(\"relu\", \"random_normal\", True),\n",
    "    build_mnist_network(\"relu\", \"glorot_uniform\", False),\n",
    "    build_mnist_network(\"relu\", \"glorot_uniform\", True)\n",
    "]\n",
    "\n",
    "for network in networks:\n",
    "    network.fit(mnist_x_train, mnist_y_train, epochs=10, batch_size=32, verbose=0)\n",
    "    test_loss, test_acc = network.evaluate(mnist_x_test, mnist_y_test, verbose=0)\n",
    "    print(test_acc)"
   ]
  },
  {
   "cell_type": "markdown",
   "metadata": {},
   "source": [
    "<ul>\n",
    "    <li>We shouldn't read too much into the results above.\n",
    "        The ideas in this lecture apply to <em>deep</em> networks.\n",
    "        This network is not deep.\n",
    "    </li>\n",
    "</ul>"
   ]
  },
  {
   "cell_type": "markdown",
   "metadata": {},
   "source": [
    "<h1>Learning Rate</h1>\n",
    "<ul>\n",
    "    <li>Among many hyperparameters, perhaps the most important is the learning rate.\n",
    "        <ul>\n",
    "            <li>This can affect whether training converges or diverges.</li>\n",
    "            <li>By changining the learning rate using a <b>learning rate schedule</b> (as we do in\n",
    "                <b>simulated annealing</b>), we can improve convergence of SGD and \n",
    "                Mini-Batch GD, and maybe avoid getting stuck in some local minima.\n",
    "            </li>\n",
    "        </ul>\n",
    "    </li>\n",
    "    <li>Here we'll discuss two things: (a) one way to choose a learning rate and (b) one\n",
    "        learning schedule.\n",
    "    </li>\n",
    "    <li>The techniques we look at have been popularized by their use in the online\n",
    "        <a href=\"https://www.fast.ai/\">FastAI course</a>.\n",
    "    </li>\n",
    "</ul>"
   ]
  },
  {
   "cell_type": "markdown",
   "metadata": {},
   "source": [
    "<h2>Plotting loss</h2>\n",
    "<ul>\n",
    "    <li>Two notes about the Keras <code>fit</code> method:\n",
    "        <ul>\n",
    "            <li>We can specify a validation dataset (<code>validation_data</code>) or request that\n",
    "                the dataset be split (<code>validation_split</code>).\n",
    "            </li>\n",
    "            <li>It returns a <code>History</code> object whose <code>history</code> attribute\n",
    "                records, for each epoch, the training losses and validation losses, and also the\n",
    "                values for any metrics requested in the <code>compile</code> method.\n",
    "            </li>\n",
    "        </ul>\n",
    "    </li>\n",
    "    <li>So we can choose a learning rate and plot losses. \n",
    "        <ul>\n",
    "            <li>If loss comes down too slowly, the learning rate may be too small.</li>\n",
    "            <li>If loss starts to go up, then the learning rate may be too large (divergence).</li>\n",
    "        </ul>\n",
    "    </li>\n",
    "</ul>           "
   ]
  },
  {
   "cell_type": "code",
   "execution_count": 8,
   "metadata": {},
   "outputs": [],
   "source": [
    "def build_mnist_model():\n",
    "    inputs = Input(shape=(28 * 28,))\n",
    "    x = Rescaling(scale=1./255)(inputs)\n",
    "    x = Dense(512, activation=\"relu\")(x)\n",
    "    outputs = Dense(10, activation=\"softmax\")(x)\n",
    "    model = Model(inputs, outputs)\n",
    "    model.compile(optimizer=SGD(learning_rate=0.01), loss=\"sparse_categorical_crossentropy\", metrics=[\"accuracy\"])\n",
    "    return model"
   ]
  },
  {
   "cell_type": "code",
   "execution_count": 9,
   "metadata": {},
   "outputs": [],
   "source": [
    "mnist_model = build_mnist_model()\n",
    "\n",
    "history = mnist_model.fit(mnist_x_train, mnist_y_train, epochs=25, batch_size=32, validation_split=0.2, verbose=0)"
   ]
  },
  {
   "cell_type": "markdown",
   "metadata": {},
   "source": [
    "<ul>\n",
    "    <li>We can plot training error and validation error (loss) on the $y$-axis and epochs on the $x$-axis\n",
    "        to see our progress.\n",
    "    </li>\n",
    "    <li>We will call this kind of plot a <b>training curve</b>.\n",
    "        <ul>\n",
    "            <li>How do the $x$-axes differ in a <b>validation curve</b>, <b>learning curve</b>\n",
    "                and <b>training curve</b>?\n",
    "            </li>\n",
    "            <li>What is each used for?</li>\n",
    "        </ul>\n",
    "    </li>\n",
    " </ul>"
   ]
  },
  {
   "cell_type": "code",
   "execution_count": 10,
   "metadata": {},
   "outputs": [
    {
     "data": {
      "text/plain": [
       "<AxesSubplot:>"
      ]
     },
     "execution_count": 10,
     "metadata": {},
     "output_type": "execute_result"
    },
    {
     "data": {
      "image/png": "[encoded data removed]",
      "text/plain": [
       "<Figure size 432x288 with 1 Axes>"
      ]
     },
     "metadata": {
      "needs_background": "light"
     },
     "output_type": "display_data"
    }
   ],
   "source": [
    "pd.DataFrame(history.history).plot()"
   ]
  },
  {
   "cell_type": "markdown",
   "metadata": {},
   "source": [
    "<ul>\n",
    "    <li>(There is an explanaton for why validation loss can be initially lower than training loss: they are\n",
    "        half an epoch out-of-step.)\n",
    "    </li>\n",
    "    <li>Here, SGD's default learning rate seems OK.</li>\n",
    "    <li>If it weren't, we could change it, retrain and re-plot.</li>\n",
    "    <li>But this is hit-and-miss. One alternative is grid search or randomized search, but these are \n",
    "        expensive.\n",
    "    </li>\n",
    "</ul>"
   ]
  },
  {
   "cell_type": "markdown",
   "metadata": {},
   "source": [
    "<h2>Finding a learning rate</h2>\n",
    "<ul>\n",
    "    <li>A popular alternative to hit-and-miss and grid search/randomized search is:\n",
    "        <ul>\n",
    "            <li>Train for just a few epochs, e.g. 5.</li>\n",
    "            <li>Start with a very low learning rate (e.g. 1e-10), then a  higher one, \n",
    "                then a higher one, and so on up to some high value (e.g. 10).\n",
    "            </li>\n",
    "            <li>Change the learning rate after each <em>batch</em>.</li>\n",
    "            <li>Plot the loss ($y$-axis) against learning rate ($x$-axis).</li>\n",
    "            <li>You should see loss decreasing slowly, then dropping sharply, and then increasing\n",
    "                sharply.\n",
    "            </li>\n",
    "            <li>The best learning rate is just before loss starts to rise: rule-of-thumb is 10 times\n",
    "                smaller than the bottom.\n",
    "            </li>\n",
    "        </ul>\n",
    "        From now on, use this as your learning rate.\n",
    "    </li>\n",
    "</ul>   "
   ]
  },
  {
   "cell_type": "code",
   "execution_count": 11,
   "metadata": {},
   "outputs": [
    {
     "data": {
      "image/png": "[encoded data removed]",
      "text/plain": [
       "<Figure size 432x288 with 1 Axes>"
      ]
     },
     "metadata": {
      "needs_background": "light"
     },
     "output_type": "display_data"
    }
   ],
   "source": [
    "mnist_model = build_mnist_model()\n",
    "\n",
    "lr_finder = LearningRateFinder(mnist_model)\n",
    "\n",
    "lr_finder.find(trainData=(mnist_x_train, mnist_y_train), \n",
    "               startLR=1e-10, endLR=1e+1, \n",
    "               epochs=5, batchSize=32, verbose=0)\n",
    "\n",
    "lr_finder.plot_loss(skipBegin=10, skipEnd=1, title=\"\")"
   ]
  },
  {
   "cell_type": "markdown",
   "metadata": {},
   "source": [
    "<ul>\n",
    "    <li>SGD's default is 10e-1, and this seems to be recommending 10e-1 or 10e-2 (it can vary from\n",
    "        run to run).\n",
    "    </li>\n",
    "    <li>Of course, the learning rate is only one hyperparameter. Keras now offers something\n",
    "        called KearTuner (requires a separate install), which can help you automatically find\n",
    "        hyperparameter values (similar, but not identical to scikit-learn's grid search). \n",
    "        As you can imagine, tuning the hyperparameters of deep neural networks is very expensive!\n",
    "    </li>\n",
    "</ul>"
   ]
  },
  {
   "cell_type": "markdown",
   "metadata": {},
   "source": [
    "<h2>1cycle scheduling</h2>\n",
    "<ul>\n",
    "    <li>If an optimizer uses a learning rate schedule, then most likely the schedule reduces the\n",
    "        learning rate over time.\n",
    "    </li>\n",
    "    <li>But reducing the learning rate may nevertheless leave us stuck on plateaus or in local minima.</li>\n",
    "    <li>1cycle scheduling, popularized by FastAI, uses two learning rates:\n",
    "        <ul>\n",
    "            <li>minimum learning rate; and</li>\n",
    "            <li>maximum learning rate.</li>\n",
    "            Simply, we change the learning rate after every batch: it grows from minimum to maximum,\n",
    "            then from maximum to minimum, then from\n",
    "            minimum to maximum, and so on.\n",
    "        </ul>\n",
    "    </li>\n",
    "    <li>What should you use as the minimum and maximum learning rates?\n",
    "        <ul>\n",
    "            <li>One suggestion is to use the plot from the learning rate finder above: just after it starts\n",
    "                falling, and just before it starts growing.\n",
    "            </li>\n",
    "        </ul>\n",
    "    </li>\n",
    "</ul>"
   ]
  },
  {
   "cell_type": "code",
   "execution_count": 12,
   "metadata": {},
   "outputs": [],
   "source": [
    "mnist_network = build_mnist_model()\n",
    "\n",
    "batch_size = 32\n",
    "step_size = 6 * mnist_x_train.shape[0] // 32\n",
    "\n",
    "clr = CyclicLR(base_lr=10e-3, max_lr=10e-1, step_size=step_size)\n",
    "\n",
    "history = mnist_model.fit(mnist_x_train, mnist_y_train, epochs=25, batch_size=batch_size, validation_split=0.2, \n",
    "                          callbacks=[clr], verbose=0)"
   ]
  },
  {
   "cell_type": "markdown",
   "metadata": {},
   "source": [
    "<ul>\n",
    "    <li>The recommendation is that <code>step_size</code> is some multiple of (e.g. $6\\times$) the number of\n",
    "        batches per epoch.\n",
    "    </li>\n",
    "</ul>"
   ]
  },
  {
   "cell_type": "code",
   "execution_count": 13,
   "metadata": {},
   "outputs": [
    {
     "name": "stdout",
     "output_type": "stream",
     "text": [
      "313/313 [==============================] - 1s 2ms/step - loss: 0.0898 - accuracy: 0.9837\n"
     ]
    },
    {
     "data": {
      "text/plain": [
       "0.9836999773979187"
      ]
     },
     "execution_count": 13,
     "metadata": {},
     "output_type": "execute_result"
    }
   ],
   "source": [
    "test_loss, test_acc = mnist_model.evaluate(mnist_x_test, mnist_y_test)\n",
    "test_acc"
   ]
  },
  {
   "cell_type": "code",
   "execution_count": 14,
   "metadata": {},
   "outputs": [
    {
     "data": {
      "text/plain": [
       "<AxesSubplot:>"
      ]
     },
     "execution_count": 14,
     "metadata": {},
     "output_type": "execute_result"
    },
    {
     "data": {
      "image/png": "[encoded data removed]",
      "text/plain": [
       "<Figure size 432x288 with 1 Axes>"
      ]
     },
     "metadata": {
      "needs_background": "light"
     },
     "output_type": "display_data"
    }
   ],
   "source": [
    "pd.DataFrame(history.history).plot()"
   ]
  },
  {
   "cell_type": "markdown",
   "metadata": {},
   "source": [
    "<ul>\n",
    "    <li>We can even see how the learning rate changes:</li>\n",
    "</ul>"
   ]
  },
  {
   "cell_type": "code",
   "execution_count": 15,
   "metadata": {},
   "outputs": [
    {
     "data": {
      "text/plain": [
       "[<matplotlib.lines.Line2D at 0x7fdfb1a372b0>]"
      ]
     },
     "execution_count": 15,
     "metadata": {},
     "output_type": "execute_result"
    },
    {
     "data": {
      "image/png": "[encoded data removed]",
      "text/plain": [
       "<Figure size 432x288 with 1 Axes>"
      ]
     },
     "metadata": {
      "needs_background": "light"
     },
     "output_type": "display_data"
    }
   ],
   "source": [
    "plt.plot(clr.history[\"lr\"])"
   ]
  },
  {
   "cell_type": "code",
   "execution_count": null,
   "metadata": {},
   "outputs": [],
   "source": []
  }
 ],
 "metadata": {
  "kernelspec": {
   "display_name": "Python 3 (ipykernel)",
   "language": "python",
   "name": "python3"
  },
  "language_info": {
   "codemirror_mode": {
    "name": "ipython",
    "version": 3
   },
   "file_extension": ".py",
   "mimetype": "text/x-python",
   "name": "python",
   "nbconvert_exporter": "python",
   "pygments_lexer": "ipython3",
   "version": "3.8.5"
  }
 },
 "nbformat": 4,
 "nbformat_minor": 1
}
